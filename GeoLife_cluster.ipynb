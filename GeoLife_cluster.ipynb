{
 "cells": [
  {
   "cell_type": "code",
   "execution_count": 1,
   "metadata": {
    "collapsed": true
   },
   "outputs": [],
   "source": [
    "import pandas as pd\n",
    "import numpy as np\n",
    "import os\n",
    "import datetime"
   ]
  },
  {
   "cell_type": "code",
   "execution_count": 2,
   "metadata": {
    "collapsed": false
   },
   "outputs": [
    {
     "name": "stderr",
     "output_type": "stream",
     "text": [
      "/home/ai2-jedi/anaconda2/lib/python2.7/site-packages/matplotlib/font_manager.py:273: UserWarning: Matplotlib is building the font cache using fc-list. This may take a moment.\n",
      "  warnings.warn('Matplotlib is building the font cache using fc-list. This may take a moment.')\n"
     ]
    }
   ],
   "source": [
    "import pandas as pd, numpy as np, matplotlib.pyplot as plt, time\n",
    "from sklearn.cluster import DBSCAN\n",
    "from sklearn import metrics\n",
    "from geopy.distance import great_circle\n",
    "from shapely.geometry import MultiPoint\n",
    "%matplotlib inline"
   ]
  },
  {
   "cell_type": "markdown",
   "metadata": {},
   "source": [
    "# concatenate data file"
   ]
  },
  {
   "cell_type": "code",
   "execution_count": null,
   "metadata": {
    "collapsed": true
   },
   "outputs": [],
   "source": [
    "USER_DISCTIONARY = {}\n",
    "data_root = '/home/ai2-jedi/Downloads/Geolife Trajectories 1.3/Data/'"
   ]
  },
  {
   "cell_type": "code",
   "execution_count": null,
   "metadata": {
    "collapsed": true
   },
   "outputs": [],
   "source": [
    "#concatenate gps censor data\n",
    "daily_gps = pd.DataFrame(columns=['userID','lat','long','zeros','alt','GMT','date','time'])\n",
    "for user in os.listdir(data_root):\n",
    "    print user\n",
    "    for f in os.listdir(data_root + user + '/Trajectory'):\n",
    "        try:\n",
    "            each_plt=pd.DataFrame(np.genfromtxt(data_root + user + '/Trajectory/'+str(f), delimiter=',',skip_header=6),\\\n",
    "                                 columns=['lat','long','zeros','alt','GMT','date','time'])\n",
    "            each_plt['userID']=user\n",
    "            each_plt=each_plt.round({'lat': 5, 'long':5}) #reduce lat-long to 5 decimal points\n",
    "            each_plt['GMT']=each_plt['GMT'].map(lambda x: convert_time(x))\n",
    "            daily_gps=daily_gps.append(each_plt)\n",
    "        except:\n",
    "            pass\n",
    "#daily_gps.reset_index()    \n",
    "print len(daily_gps)"
   ]
  },
  {
   "cell_type": "code",
   "execution_count": null,
   "metadata": {
    "collapsed": true
   },
   "outputs": [],
   "source": [
    "#Beijing GeoFence\n",
    "upper_left_latlong=(40.195024, 115.891955)\n",
    "lower_right_latlong=(39.676959, 116.850512)"
   ]
  },
  {
   "cell_type": "code",
   "execution_count": null,
   "metadata": {
    "collapsed": false
   },
   "outputs": [],
   "source": [
    "Beijing_GPS=daily_gps[(daily_gps['lat']>39.676959) & (daily_gps['lat']<40.195024)& (daily_gps['long']>115.891955)& (daily_gps['long']<116.850512)]"
   ]
  },
  {
   "cell_type": "code",
   "execution_count": null,
   "metadata": {
    "collapsed": true
   },
   "outputs": [],
   "source": [
    "#Beijing_GPS.to_csv('Geolife_Beijing_raw.csv')"
   ]
  },
  {
   "cell_type": "code",
   "execution_count": 88,
   "metadata": {
    "collapsed": true
   },
   "outputs": [],
   "source": [
    "def haversine_np(lon1, lat1, lon2, lat2):\n",
    "    \"\"\"\n",
    "    Calculate the great circle distance between two points\n",
    "    on the earth (specified in decimal degrees)\n",
    "\n",
    "    All args must be of equal length.    \n",
    "\n",
    "    \"\"\"\n",
    "    lon1, lat1, lon2, lat2 = map(np.radians, [lon1, lat1, lon2, lat2])\n",
    "\n",
    "    dlon = lon2 - lon1\n",
    "    dlat = lat2 - lat1\n",
    "\n",
    "    a = np.sin(dlat/2.0)**2 + np.cos(lat1) * np.cos(lat2) * np.sin(dlon/2.0)**2\n",
    "\n",
    "    c = 2 * np.arcsin(np.sqrt(a))\n",
    "    mile = 6367 * c *0.621371\n",
    "    return mile"
   ]
  },
  {
   "cell_type": "code",
   "execution_count": null,
   "metadata": {
    "collapsed": false
   },
   "outputs": [],
   "source": [
    "def calculate_distance(oneUser):\n",
    "    oneUser[['lat','long','previousLat','previousLong']] = oneUser[['lat','long','previousLat','previousLong']].apply(pd.to_numeric)\n",
    "    oneUser['hdist'] = oneUser.apply(lambda x: haversine_np(x[4], x[3],x[8], x[7]), axis = 1)\n",
    "    #oneUser['deltaHour']=oneUser['deltaTime'].apply(lambda x:(x/(np.timedelta64(1, 'm'))/60.0))\n",
    "    #oneUser['speed(mile/hour)']=oneUser['hdist']/oneUser['deltaHour']\n",
    "    return oneUser"
   ]
  },
  {
   "cell_type": "code",
   "execution_count": null,
   "metadata": {
    "collapsed": true
   },
   "outputs": [],
   "source": [
    "def convert_time(delta):\n",
    "    temp = datetime.datetime(1899, 12, 30)    # Note, not 31st Dec but 30th!\n",
    "    time = temp+datetime.timedelta(days=delta)\n",
    "    return time"
   ]
  },
  {
   "cell_type": "code",
   "execution_count": null,
   "metadata": {
    "collapsed": true
   },
   "outputs": [],
   "source": [
    "def convert_string_to_time(time):\n",
    "    time = datetime.datetime.strptime(str(time),'%Y-%m-%d %H:%M:%S.%f')\n",
    "    #time=time.strftime('%Y/%m/%d %H:%M:%S')\n",
    "    return time"
   ]
  },
  {
   "cell_type": "code",
   "execution_count": null,
   "metadata": {
    "collapsed": true
   },
   "outputs": [],
   "source": [
    "def convert_string_to_time_slash(time):\n",
    "    time = datetime.datetime.strptime(str(time),'%Y/%m/%d %H:%M:%S')\n",
    "    #time=time.strftime('%Y/%m/%d %H:%M:%S')\n",
    "    return time"
   ]
  },
  {
   "cell_type": "code",
   "execution_count": null,
   "metadata": {
    "collapsed": true
   },
   "outputs": [],
   "source": [
    "def reformat_time(time):\n",
    "    #time = datetime.datetime.strptime(str(time),'%Y-%m-%d %H:%M:%S.%f')\n",
    "    time=time.strftime('%Y/%m/%d %H:%M:%S')\n",
    "    return time"
   ]
  },
  {
   "cell_type": "code",
   "execution_count": null,
   "metadata": {
    "collapsed": true
   },
   "outputs": [],
   "source": [
    "def findTimeDiff(df):\n",
    "    df=df.sort('GMT',ascending=True)\n",
    "    df['time2']=df['GMT'].shift(-1)\n",
    "    df['deltaTime'] = df['time2']-df['GMT']\n",
    "    \n",
    "    df['previousLat'] = df['lat'].shift(-1)\n",
    "    df['previousLong'] = df['long'].shift(-1)\n",
    "    \n",
    "\n",
    "    df=calculate_distance(df)\n",
    "    \n",
    "    df['deltaHour']=df['deltaTime'].apply(lambda x:(x/(np.timedelta64(1, 'm'))/60.0))\n",
    "    df['speed(mile/hour)']=df['hdist']/df['deltaHour']\n",
    "\n",
    "    return df[['userID','GMT','lat','long','speed(mile/hour)']]"
   ]
  },
  {
   "cell_type": "code",
   "execution_count": null,
   "metadata": {
    "collapsed": false
   },
   "outputs": [],
   "source": [
    "Beijing_GPS['GMT']=Beijing_GPS['GMT'].apply(lambda x:convert_string_to_time(x))"
   ]
  },
  {
   "cell_type": "code",
   "execution_count": null,
   "metadata": {
    "collapsed": false
   },
   "outputs": [],
   "source": [
    "UserList=list(set(Beijing_GPS['userID']))"
   ]
  },
  {
   "cell_type": "code",
   "execution_count": null,
   "metadata": {
    "collapsed": false
   },
   "outputs": [],
   "source": [
    "speed_df=pd.DataFrame(columns=['userID','GMT','lat','long','speed(mile/hour)'])\n",
    "for user in UserList:\n",
    "    single_user_df=Beijing_GPS[Beijing_GPS['userID']==user]\n",
    "    single_user_df=findTimeDiff(single_user_df)\n",
    "    speed_df=speed_df.append(single_user_df)\n",
    "speed_df.to_csv('Beijing_Geolife_w_speed.csv')"
   ]
  },
  {
   "cell_type": "code",
   "execution_count": null,
   "metadata": {
    "collapsed": true
   },
   "outputs": [],
   "source": [
    "#labels table\n",
    "gps_label = pd.DataFrame(columns=['userID','Start Time','End Time','Transportation Mode'])\n",
    "for user in os.listdir(data_root):\n",
    "    try:\n",
    "        each_txt=pd.read_csv(data_root + user +'/labels.txt', delimiter='\\t')\n",
    "        each_txt['userID']=user\n",
    "        gps_label=gps_label.append(each_txt)\n",
    "        #print gps_label\n",
    "    except:\n",
    "        pass"
   ]
  },
  {
   "cell_type": "code",
   "execution_count": null,
   "metadata": {
    "collapsed": false
   },
   "outputs": [],
   "source": [
    "speed_df_timeReformat=speed_df.copy()\n",
    "gps_label_timeReformat=gps_label.copy()\n",
    "#speed_df_timeReformat['GMT']=speed_df_timeReformat['GMT'].apply(lambda x: reformat_time(x))"
   ]
  },
  {
   "cell_type": "code",
   "execution_count": null,
   "metadata": {
    "collapsed": false
   },
   "outputs": [],
   "source": [
    "gps_label_timeReformat[['userID']] = gps_label_timeReformat[['userID']].apply(pd.to_numeric)\n",
    "gps_label_timeReformat['Start Time']=gps_label_timeReformat['Start Time'].apply(lambda x: convert_string_to_time_slash(x))\n",
    "gps_label_timeReformat['End Time']=gps_label_timeReformat['End Time'].apply(lambda x: convert_string_to_time_slash(x))\n",
    "gps_label_timeReformat.head()"
   ]
  },
  {
   "cell_type": "code",
   "execution_count": null,
   "metadata": {
    "collapsed": false
   },
   "outputs": [],
   "source": [
    "#speed_df_timeReformat.to_csv('Geolife_Beijing_w_Speed.csv')"
   ]
  },
  {
   "cell_type": "code",
   "execution_count": null,
   "metadata": {
    "collapsed": true
   },
   "outputs": [],
   "source": []
  },
  {
   "cell_type": "markdown",
   "metadata": {},
   "source": [
    "# reduce dimension"
   ]
  },
  {
   "cell_type": "code",
   "execution_count": 3,
   "metadata": {
    "collapsed": false
   },
   "outputs": [],
   "source": [
    "speed_df_timeReformat=pd.read_csv('Geolife_Beijing_w_Speed.csv')"
   ]
  },
  {
   "cell_type": "code",
   "execution_count": 4,
   "metadata": {
    "collapsed": false
   },
   "outputs": [],
   "source": [
    "speed_df_timeReformat=speed_df_timeReformat.dropna()"
   ]
  },
  {
   "cell_type": "code",
   "execution_count": 5,
   "metadata": {
    "collapsed": false
   },
   "outputs": [
    {
     "data": {
      "text/html": [
       "<div>\n",
       "<table border=\"1\" class=\"dataframe\">\n",
       "  <thead>\n",
       "    <tr style=\"text-align: right;\">\n",
       "      <th></th>\n",
       "      <th>Unnamed: 0</th>\n",
       "      <th>GMT</th>\n",
       "      <th>lat</th>\n",
       "      <th>long</th>\n",
       "      <th>speed(mile/hour)</th>\n",
       "    </tr>\n",
       "  </thead>\n",
       "  <tbody>\n",
       "    <tr>\n",
       "      <th>count</th>\n",
       "      <td>115.000000</td>\n",
       "      <td>115.000000</td>\n",
       "      <td>115.000000</td>\n",
       "      <td>115.000000</td>\n",
       "      <td>115.000000</td>\n",
       "    </tr>\n",
       "    <tr>\n",
       "      <th>mean</th>\n",
       "      <td>98249.156522</td>\n",
       "      <td>98249.156522</td>\n",
       "      <td>98249.156522</td>\n",
       "      <td>98249.156522</td>\n",
       "      <td>98249.156522</td>\n",
       "    </tr>\n",
       "    <tr>\n",
       "      <th>std</th>\n",
       "      <td>198367.933732</td>\n",
       "      <td>198367.933732</td>\n",
       "      <td>198367.933732</td>\n",
       "      <td>198367.933732</td>\n",
       "      <td>198367.933732</td>\n",
       "    </tr>\n",
       "    <tr>\n",
       "      <th>min</th>\n",
       "      <td>14.000000</td>\n",
       "      <td>14.000000</td>\n",
       "      <td>14.000000</td>\n",
       "      <td>14.000000</td>\n",
       "      <td>14.000000</td>\n",
       "    </tr>\n",
       "    <tr>\n",
       "      <th>25%</th>\n",
       "      <td>2163.000000</td>\n",
       "      <td>2163.000000</td>\n",
       "      <td>2163.000000</td>\n",
       "      <td>2163.000000</td>\n",
       "      <td>2163.000000</td>\n",
       "    </tr>\n",
       "    <tr>\n",
       "      <th>50%</th>\n",
       "      <td>16501.000000</td>\n",
       "      <td>16501.000000</td>\n",
       "      <td>16501.000000</td>\n",
       "      <td>16501.000000</td>\n",
       "      <td>16501.000000</td>\n",
       "    </tr>\n",
       "    <tr>\n",
       "      <th>75%</th>\n",
       "      <td>113075.000000</td>\n",
       "      <td>113075.000000</td>\n",
       "      <td>113075.000000</td>\n",
       "      <td>113075.000000</td>\n",
       "      <td>113075.000000</td>\n",
       "    </tr>\n",
       "    <tr>\n",
       "      <th>max</th>\n",
       "      <td>1516872.000000</td>\n",
       "      <td>1516872.000000</td>\n",
       "      <td>1516872.000000</td>\n",
       "      <td>1516872.000000</td>\n",
       "      <td>1516872.000000</td>\n",
       "    </tr>\n",
       "  </tbody>\n",
       "</table>\n",
       "</div>"
      ],
      "text/plain": [
       "           Unnamed: 0             GMT             lat            long  \\\n",
       "count      115.000000      115.000000      115.000000      115.000000   \n",
       "mean     98249.156522    98249.156522    98249.156522    98249.156522   \n",
       "std     198367.933732   198367.933732   198367.933732   198367.933732   \n",
       "min         14.000000       14.000000       14.000000       14.000000   \n",
       "25%       2163.000000     2163.000000     2163.000000     2163.000000   \n",
       "50%      16501.000000    16501.000000    16501.000000    16501.000000   \n",
       "75%     113075.000000   113075.000000   113075.000000   113075.000000   \n",
       "max    1516872.000000  1516872.000000  1516872.000000  1516872.000000   \n",
       "\n",
       "       speed(mile/hour)  \n",
       "count        115.000000  \n",
       "mean       98249.156522  \n",
       "std       198367.933732  \n",
       "min           14.000000  \n",
       "25%         2163.000000  \n",
       "50%        16501.000000  \n",
       "75%       113075.000000  \n",
       "max      1516872.000000  "
      ]
     },
     "execution_count": 5,
     "metadata": {},
     "output_type": "execute_result"
    }
   ],
   "source": [
    "speed_df_timeReformat.groupby('userID').count().describe()"
   ]
  },
  {
   "cell_type": "code",
   "execution_count": 6,
   "metadata": {
    "collapsed": false
   },
   "outputs": [],
   "source": [
    "def sample_gps(df,sample_rate):\n",
    "    # next, sample every nth row (where n=sample_rate) of the full gps location history data set\n",
    "    df_sampled = df.iloc[range(0, len(df), sample_rate)]\n",
    "    return df_sampled"
   ]
  },
  {
   "cell_type": "code",
   "execution_count": 7,
   "metadata": {
    "collapsed": false,
    "scrolled": true
   },
   "outputs": [],
   "source": [
    "def get_centermost_point(cluster):\n",
    "    centroid = (MultiPoint(cluster).centroid.x, MultiPoint(cluster).centroid.y)\n",
    "    centermost_point = min(cluster, key=lambda point: great_circle(point, centroid).m)\n",
    "    return tuple(centermost_point)\n",
    "\n",
    "#centermost_points = clusters[:21].map(get_centermost_point)"
   ]
  },
  {
   "cell_type": "code",
   "execution_count": 53,
   "metadata": {
    "collapsed": true
   },
   "outputs": [],
   "source": [
    "def get_centroid_list(clusters):\n",
    "    centroidList=[]\n",
    "    for each_cluster in clusters:\n",
    "        try:\n",
    "            centroidList.append(get_centermost_point(each_cluster))\n",
    "        except:\n",
    "            pass\n",
    "    return centroidList"
   ]
  },
  {
   "cell_type": "code",
   "execution_count": 50,
   "metadata": {
    "collapsed": false
   },
   "outputs": [],
   "source": [
    "def multiple_user_cluster(df, eps, x='long', y='lat'):\n",
    "    eps=eps\n",
    "    UserList=list(set(df['userID']))\n",
    "    total_clusters_all_users=pd.DataFrame(columns=['cLat', 'cLon', 'userID'])\n",
    "    for user in UserList:\n",
    "        print user\n",
    "        sub_df=df[df['userID']==user]\n",
    "        sample_rate=len(sub_df)/20000\n",
    "        if sample_rate!=0:\n",
    "            df_sample=sample_gps(sub_df,sample_rate)\n",
    "        else:\n",
    "            df_sample=sub_df\n",
    "        sub_clustered=dbscan_reduce(user,df_sample, epsilon=eps, x='long', y='lat')\n",
    "        total_clusters_all_users=total_clusters_all_users.append(sub_clustered)\n",
    "    return total_clusters_all_users"
   ]
  },
  {
   "cell_type": "code",
   "execution_count": 52,
   "metadata": {
    "collapsed": true
   },
   "outputs": [],
   "source": [
    "def dbscan_reduce(user,df_original, epsilon, x='long', y='lat'):\n",
    "    df=df_original.copy()\n",
    "    start_time = time.time()\n",
    "    # represent points consistently as (lat, lon) and convert to radians to fit using haversine metric\n",
    "    coords = df.as_matrix(columns=[y, x])    \n",
    "    db = DBSCAN(eps=epsilon, min_samples=1000, algorithm='ball_tree', metric='haversine').fit(np.radians(coords))\n",
    "    cluster_labels = db.labels_\n",
    "    num_clusters = len(set(cluster_labels))\n",
    "    #print('Number of clusters: {:,}'.format(num_clusters))\n",
    "    \n",
    "    clusters_w_empty = pd.Series([coords[cluster_labels==n] for n in range(num_clusters)])\n",
    "    clusters=[cluster for cluster in clusters_w_empty if cluster!=[]]\n",
    "    # find the point in each cluster that is closest to its centroid\n",
    "    #centermost_points = clusters.map(get_centermost_point)\n",
    "    centermost_points = get_centroid_list(clusters)\n",
    "    centroidTable=pd.DataFrame(centermost_points,columns=['cLat','cLon'])\n",
    "    centroidTable['userID']=user\n",
    "    #return centermost_points\n",
    "    return centroidTable"
   ]
  },
  {
   "cell_type": "code",
   "execution_count": 76,
   "metadata": {
    "collapsed": true
   },
   "outputs": [],
   "source": [
    "def dbscan_reduce_totalUser(df_original, epsilon, x='cLon', y='cLat'):\n",
    "    df=df_original.copy()\n",
    "    # represent points consistently as (lat, lon) and convert to radians to fit using haversine metric\n",
    "    coords = df.as_matrix(columns=[y, x])    \n",
    "    db = DBSCAN(eps=epsilon, min_samples=3, algorithm='ball_tree', metric='haversine').fit(np.radians(coords))\n",
    "    cluster_labels = db.labels_\n",
    "    num_clusters = len(set(cluster_labels))\n",
    "    #print('Number of clusters: {:,}'.format(num_clusters))\n",
    "    \n",
    "    clusters_w_empty = pd.Series([coords[cluster_labels==n] for n in range(num_clusters)])\n",
    "    clusters=[cluster for cluster in clusters_w_empty if cluster!=[]]\n",
    "    # find the point in each cluster that is closest to its centroid\n",
    "    #centermost_points = clusters.map(get_centermost_point)\n",
    "    centermost_points = get_centroid_list(clusters)\n",
    "    centroidTable=pd.DataFrame(centermost_points,columns=['cLat','cLon'])\n",
    "    #return centermost_points\n",
    "    return centroidTable"
   ]
  },
  {
   "cell_type": "code",
   "execution_count": 18,
   "metadata": {
    "collapsed": true
   },
   "outputs": [],
   "source": [
    "# define the number of kilometers in one radian\n",
    "kms_per_radian = 6371.0088\n",
    "# first cluster the full gps location history data set coarsely, with epsilon=5km in radians\n",
    "eps_rad = 1 / kms_per_radian\n",
    "#df_clustered = multiple_user_cluster(speed_df_timeReformat[:1000000], epsilon=eps_rad)"
   ]
  },
  {
   "cell_type": "code",
   "execution_count": 59,
   "metadata": {
    "collapsed": true
   },
   "outputs": [
    {
     "name": "stdout",
     "output_type": "stream",
     "text": [
      "0.0\n",
      "1.0\n",
      "2.0\n",
      "4.0\n",
      "6.0\n",
      "7.0\n",
      "8.0\n",
      "9.0\n",
      "10.0\n",
      "11.0\n",
      "17.0\n",
      "18.0\n",
      "20.0\n",
      "21.0\n",
      "24.0\n",
      "25.0\n",
      "26.0\n",
      "27.0\n",
      "29.0\n",
      "30.0\n",
      "31.0\n",
      "33.0\n",
      "36.0\n",
      "37.0\n",
      "38.0\n",
      "39.0\n",
      "42.0\n",
      "46.0\n",
      "47.0\n",
      "48.0\n",
      "50.0\n",
      "51.0\n",
      "52.0\n",
      "53.0\n",
      "56.0\n",
      "57.0\n",
      "58.0\n",
      "60.0\n",
      "61.0\n",
      "64.0\n",
      "65.0\n",
      "69.0\n",
      "72.0\n",
      "74.0\n",
      "75.0\n",
      "76.0\n",
      "77.0\n",
      "78.0\n",
      "79.0\n",
      "81.0\n",
      "82.0\n",
      "84.0\n",
      "85.0\n",
      "86.0\n",
      "88.0\n",
      "89.0\n",
      "90.0\n",
      "91.0\n",
      "92.0\n",
      "93.0\n",
      "94.0\n",
      "95.0\n",
      "99.0\n",
      "100.0\n",
      "101.0\n",
      "105.0\n",
      "107.0\n",
      "110.0\n",
      "111.0\n",
      "113.0\n",
      "114.0\n",
      "115.0\n",
      "116.0\n",
      "117.0\n",
      "120.0\n",
      "121.0\n",
      "122.0\n",
      "123.0\n",
      "126.0\n",
      "127.0\n",
      "129.0\n",
      "130.0\n",
      "131.0\n",
      "133.0\n",
      "134.0\n",
      "135.0\n",
      "136.0\n",
      "137.0\n",
      "138.0\n",
      "140.0\n",
      "141.0\n",
      "142.0\n",
      "143.0\n",
      "146.0\n",
      "147.0\n",
      "150.0\n",
      "152.0\n",
      "153.0\n",
      "154.0\n",
      "155.0\n",
      "156.0\n",
      "159.0\n",
      "161.0\n",
      "162.0\n",
      "164.0\n",
      "166.0\n",
      "167.0\n",
      "168.0\n",
      "170.0\n",
      "171.0\n",
      "174.0\n",
      "177.0\n",
      "178.0\n",
      "179.0\n",
      "181.0\n"
     ]
    },
    {
     "name": "stderr",
     "output_type": "stream",
     "text": [
      "/home/ai2-jedi/anaconda2/lib/python2.7/site-packages/ipykernel/__main__.py:12: DeprecationWarning: elementwise != comparison failed; this will raise an error in the future.\n"
     ]
    }
   ],
   "source": [
    "cluster_by_user=multiple_user_cluster(df=speed_df_timeReformat,eps=eps_rad)"
   ]
  },
  {
   "cell_type": "code",
   "execution_count": 61,
   "metadata": {
    "collapsed": false,
    "scrolled": true
   },
   "outputs": [],
   "source": [
    "cluster_by_user.to_csv('cluster_by_user.csv',index=False)"
   ]
  },
  {
   "cell_type": "code",
   "execution_count": 79,
   "metadata": {
    "collapsed": false
   },
   "outputs": [
    {
     "name": "stderr",
     "output_type": "stream",
     "text": [
      "/home/ai2-jedi/anaconda2/lib/python2.7/site-packages/ipykernel/__main__.py:11: DeprecationWarning: elementwise != comparison failed; this will raise an error in the future.\n"
     ]
    }
   ],
   "source": [
    "total_cluster=dbscan_reduce_totalUser(cluster_by_user,epsilon=eps_rad)"
   ]
  },
  {
   "cell_type": "code",
   "execution_count": 80,
   "metadata": {
    "collapsed": true
   },
   "outputs": [],
   "source": [
    "total_cluster.to_csv('total_cluster.csv',index=False)"
   ]
  },
  {
   "cell_type": "code",
   "execution_count": null,
   "metadata": {
    "collapsed": true
   },
   "outputs": [],
   "source": []
  },
  {
   "cell_type": "code",
   "execution_count": null,
   "metadata": {
    "collapsed": true
   },
   "outputs": [],
   "source": []
  },
  {
   "cell_type": "code",
   "execution_count": null,
   "metadata": {
    "collapsed": true
   },
   "outputs": [],
   "source": []
  },
  {
   "cell_type": "code",
   "execution_count": null,
   "metadata": {
    "collapsed": true
   },
   "outputs": [],
   "source": []
  },
  {
   "cell_type": "markdown",
   "metadata": {},
   "source": [
    "# Single User Analysis"
   ]
  },
  {
   "cell_type": "code",
   "execution_count": 81,
   "metadata": {
    "collapsed": false
   },
   "outputs": [
    {
     "name": "stderr",
     "output_type": "stream",
     "text": [
      "/home/ai2-jedi/anaconda2/lib/python2.7/site-packages/ipykernel/__main__.py:1: FutureWarning: sort(columns=....) is deprecated, use sort_values(by=.....)\n",
      "  if __name__ == '__main__':\n"
     ]
    }
   ],
   "source": [
    "user85=speed_df_timeReformat[speed_df_timeReformat['userID']==85].sort('GMT',ascending=True)"
   ]
  },
  {
   "cell_type": "code",
   "execution_count": 96,
   "metadata": {
    "collapsed": false
   },
   "outputs": [],
   "source": [
    "firstFew_user85=user85"
   ]
  },
  {
   "cell_type": "code",
   "execution_count": 98,
   "metadata": {
    "collapsed": false
   },
   "outputs": [],
   "source": [
    "def return_closest_centroid(lat,lon,centroidTable):\n",
    "    distance_dict=[]\n",
    "    for cIndex in centroidTable.index:\n",
    "        #print pd.DataFrame([haversine_np(lon, lat, centroidTable.iloc[cIndex][1], centroidTable.iloc[cIndex][0]),cIndex]).transpose()\n",
    "        distance_dict.append([haversine_np(lon, lat, total_cluster.iloc[cIndex][1], total_cluster.iloc[cIndex][0]),cIndex])\n",
    "        #print distance_dict\n",
    "    distance_dict=pd.DataFrame(distance_dict)\n",
    "    distance_dict.columns=['distance','cIndex']\n",
    "    distance_dict.loc[distance_dict.distance >5 , 'cIndex'] = 800\n",
    "    distance_sort=distance_dict.sort('distance',ascending=True)\n",
    "    return distance_sort.iloc[0][1]"
   ]
  },
  {
   "cell_type": "code",
   "execution_count": 99,
   "metadata": {
    "collapsed": false
   },
   "outputs": [
    {
     "name": "stderr",
     "output_type": "stream",
     "text": [
      "/home/ai2-jedi/anaconda2/lib/python2.7/site-packages/ipykernel/__main__.py:10: FutureWarning: sort(columns=....) is deprecated, use sort_values(by=.....)\n"
     ]
    }
   ],
   "source": [
    "clusterList=[]\n",
    "for row in firstFew_user85.index:\n",
    "    lat=firstFew_user85['lat'][row]\n",
    "    lon=firstFew_user85['long'][row]\n",
    "    cluster=return_closest_centroid(lat,lon,total_cluster)\n",
    "    clusterList.append(cluster)\n",
    "firstFew_user85['cluster']=clusterList"
   ]
  },
  {
   "cell_type": "code",
   "execution_count": 100,
   "metadata": {
    "collapsed": false
   },
   "outputs": [
    {
     "name": "stdout",
     "output_type": "stream",
     "text": [
      "253584\n",
      "124930\n",
      "30901\n",
      "42848\n",
      "9909\n",
      "13845\n",
      "77017\n",
      "0\n"
     ]
    }
   ],
   "source": [
    "for i in range(8):\n",
    "    print len(firstFew_user85[firstFew_user85['cluster']==i])"
   ]
  },
  {
   "cell_type": "code",
   "execution_count": 101,
   "metadata": {
    "collapsed": false
   },
   "outputs": [],
   "source": [
    "firstFew_user85.to_csv('user85_allClusterTag.csv')"
   ]
  }
 ],
 "metadata": {
  "kernelspec": {
   "display_name": "Python 2",
   "language": "python",
   "name": "python2"
  },
  "language_info": {
   "codemirror_mode": {
    "name": "ipython",
    "version": 2
   },
   "file_extension": ".py",
   "mimetype": "text/x-python",
   "name": "python",
   "nbconvert_exporter": "python",
   "pygments_lexer": "ipython2",
   "version": "2.7.11"
  }
 },
 "nbformat": 4,
 "nbformat_minor": 0
}
